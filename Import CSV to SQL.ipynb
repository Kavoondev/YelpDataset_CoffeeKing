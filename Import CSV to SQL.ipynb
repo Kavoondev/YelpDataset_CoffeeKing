{
 "cells": [
  {
   "cell_type": "code",
   "execution_count": 1,
   "metadata": {},
   "outputs": [],
   "source": [
    "import pandas as pd\n",
    "from sqlalchemy import create_engine"
   ]
  },
  {
   "cell_type": "code",
   "execution_count": 24,
   "metadata": {},
   "outputs": [],
   "source": [
    "# Параметри бази даних\n",
    "DB_TYPE = \"mysql\"\n",
    "DB_HOST = \"localhost\"\n",
    "DB_PORT = 3306\n",
    "DB_NAME = \"yelp\"\n",
    "DB_USER = \"root\"\n",
    "DB_PASSWORD = \"PASSWORD\"\n",
    "TABLE_NAME = \"yelp_attributes\"\n",
    "\n",
    "# Шлях до файлу CSV\n",
    "CSV_FILE_PATH = \"D:/Downloads/yelp_attributes.csv\"\n",
    "\n",
    "# Розмір одного чанк-оброблення (в рядках)\n",
    "CHUNK_SIZE = 10000  # Оптимальний розмір для слабкого ПК"
   ]
  },
  {
   "cell_type": "code",
   "execution_count": 3,
   "metadata": {},
   "outputs": [],
   "source": [
    "engine = create_engine(f\"mysql+pymysql://{DB_USER}:{DB_PASSWORD}@{DB_HOST}:{DB_PORT}/{DB_NAME}\")"
   ]
  },
  {
   "cell_type": "code",
   "execution_count": 104,
   "metadata": {},
   "outputs": [],
   "source": [
    "def clean_column_names(columns):\n",
    "    \"\"\"Очищення назв колонок для відповідності SQL.\"\"\"\n",
    "    return [col.replace('-', '_').replace(' ', '_').replace('.', '_') for col in columns]\n",
    "\n",
    "def truncate_column(dataframe, column_name, max_length):\n",
    "    \"\"\"Обрізає значення в заданій колонці до максимальної довжини.\"\"\"\n",
    "    if column_name in dataframe.columns:\n",
    "        dataframe[column_name] = dataframe[column_name].str.slice(0, max_length)\n",
    "    return dataframe\n",
    "\n",
    "def import_csv_to_sql_in_chunks(csv_path, table_name, engine, chunk_size=CHUNK_SIZE, max_length=500):\n",
    "    total_rows = 0\n",
    "    for chunk in pd.read_csv(\n",
    "        csv_path, \n",
    "        chunksize=chunk_size, \n",
    "        low_memory=True,  # Зменшує використання пам'яті\n",
    "        dtype=str  # Усі колонки читаються як текст, щоб уникнути помилок типу\n",
    "    ):\n",
    "        # Очищення заголовків колонок\n",
    "        chunk.columns = clean_column_names(chunk.columns)\n",
    "\n",
    "        # Обрізання значень у колонці `friends`\n",
    "        # chunk = truncate_column(chunk, 'friends', max_length)\n",
    "        chunk = truncate_column(chunk, 'date', max_length)\n",
    "\n",
    "        # Запис у базу\n",
    "        chunk.to_sql(table_name, engine, if_exists='append', index=False, chunksize=chunk_size)\n",
    "        total_rows += len(chunk)\n",
    "        print(f\"Імпортовано {total_rows} рядків...\")\n",
    "    \n",
    "    print(f\"Імпорт завершено. Загалом імпортовано: {total_rows} рядків.\")\n"
   ]
  },
  {
   "cell_type": "code",
   "execution_count": 105,
   "metadata": {},
   "outputs": [
    {
     "name": "stdout",
     "output_type": "stream",
     "text": [
      "Імпортовано 10000 рядків...\n",
      "Імпортовано 20000 рядків...\n",
      "Імпортовано 30000 рядків...\n",
      "Імпортовано 40000 рядків...\n",
      "Імпортовано 50000 рядків...\n",
      "Імпортовано 60000 рядків...\n",
      "Імпортовано 70000 рядків...\n",
      "Імпортовано 80000 рядків...\n",
      "Імпортовано 90000 рядків...\n",
      "Імпортовано 100000 рядків...\n",
      "Імпортовано 110000 рядків...\n",
      "Імпортовано 120000 рядків...\n",
      "Імпортовано 130000 рядків...\n",
      "Імпортовано 140000 рядків...\n",
      "Імпортовано 150000 рядків...\n",
      "Імпортовано 150346 рядків...\n",
      "Імпорт завершено. Загалом імпортовано: 150346 рядків.\n"
     ]
    }
   ],
   "source": [
    "# Виконання\n",
    "try:\n",
    "    import_csv_to_sql_in_chunks(CSV_FILE_PATH, TABLE_NAME, engine)\n",
    "except Exception as e:\n",
    "    print(f\"Помилка: {e}\")"
   ]
  },
  {
   "cell_type": "code",
   "execution_count": null,
   "metadata": {},
   "outputs": [],
   "source": []
  }
 ],
 "metadata": {
  "kernelspec": {
   "display_name": "Python 3",
   "language": "python",
   "name": "python3"
  },
  "language_info": {
   "codemirror_mode": {
    "name": "ipython",
    "version": 3
   },
   "file_extension": ".py",
   "mimetype": "text/x-python",
   "name": "python",
   "nbconvert_exporter": "python",
   "pygments_lexer": "ipython3",
   "version": "3.12.4"
  }
 },
 "nbformat": 4,
 "nbformat_minor": 2
}
